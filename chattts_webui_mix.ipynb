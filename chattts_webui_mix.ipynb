{
  "nbformat": 4,
  "nbformat_minor": 0,
  "metadata": {
    "colab": {
      "provenance": [],
      "gpuType": "T4",
      "include_colab_link": true
    },
    "kernelspec": {
      "name": "python3",
      "display_name": "Python 3"
    },
    "language_info": {
      "name": "python"
    },
    "accelerator": "GPU"
  },
  "cells": [
    {
      "cell_type": "markdown",
      "metadata": {
        "id": "view-in-github",
        "colab_type": "text"
      },
      "source": [
        "<a href=\"https://colab.research.google.com/github/samjoeyang/ChatTTS_colab/blob/main/chattts_webui_mix.ipynb\" target=\"_parent\"><img src=\"https://colab.research.google.com/assets/colab-badge.svg\" alt=\"Open In Colab\"/></a>"
      ]
    },
    {
      "cell_type": "markdown",
      "source": [
        "> 🌟 如果你觉得 ChatTTS 和 ChatTTS_colab 项目对你有帮助，请访问以下链接给它们点个星星吧！🌟\n",
        "\n",
        "- [ChatTTS 项目](https://github.com/2noise/ChatTTS)\n",
        "\n",
        "- [ChatTTS_colab 项目](https://github.com/6drf21e/ChatTTS_colab)\n",
        "\n",
        "感谢你的支持！\n",
        "\n",
        "# 运行方法\n",
        "\n",
        "- 点击菜单栏的--代码执行程序--全部运行即可\n",
        "- 执行后在下方的日志中找到类似\n",
        "\n",
        "  Running on public URL: https://**************.gradio.live  <-这个就是可以访问的公网地址\n",
        "\n",
        "安装包的时候提示要重启 请点**\"否\"**"
      ],
      "metadata": {
        "id": "Xo3k5XsTzWK6"
      }
    },
    {
      "cell_type": "code",
      "source": [
        "%cd /content/\n",
        "%rm -rf /content/ChatTTS_colab\n",
        "!git clone -q https://github.com/samjoeyang/ChatTTS_colab\n",
        "%cd ChatTTS_colab\n",
        "!git clone -q https://github.com/2noise/ChatTTS\n",
        "%cd ChatTTS\n",
        "!git checkout -q 4c201cd\n",
        "%cd ..\n",
        "!mv ChatTTS abc\n",
        "!mv abc/* /content/ChatTTS_colab/\n",
        "!pip install -q omegaconf vocos vector_quantize_pytorch gradio cn2an pypinyin openai jieba WeTextProcessing python-dotenv pybase16384\n",
        "!pip install -r requirements.txt",
        "!apt-get update -qq && apt-get install -y -qq ffmpeg\n",
        "# 启动 Gradio 有公网地址\n",
        "!python webui_mix.py --share\n"
      ],
      "metadata": {
        "id": "hNDl-5muR77-",
        "outputId": "bbf9dc76-7451-4962-c918-734cbb78db3b",
        "colab": {
          "base_uri": "https://localhost:8080/"
        }
      },
      "execution_count": null,
      "outputs": [
        
      ]
    }
  ]
}
